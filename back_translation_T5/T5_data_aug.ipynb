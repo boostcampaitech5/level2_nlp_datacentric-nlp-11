{
 "cells": [
  {
   "cell_type": "code",
   "execution_count": 2,
   "id": "d616cc06-2be2-45c4-a8a1-ebc173ac2f90",
   "metadata": {
    "tags": []
   },
   "outputs": [],
   "source": [
    "import os\n",
    "import pandas as pd\n",
    "import torch\n",
    "from transformers import AutoTokenizer, AutoModelForSeq2SeqLM\n",
    "from transformers import DataCollatorForSeq2Seq\n",
    "from transformers import Seq2SeqTrainingArguments, Seq2SeqTrainer\n",
    "from datasets import load_dataset, load_metric\n",
    "import pytorch_lightning as pl"
   ]
  },
  {
   "attachments": {},
   "cell_type": "markdown",
   "id": "7d803021-6db9-4f04-89dc-d7507f7f8e05",
   "metadata": {},
   "source": [
    "## T5 "
   ]
  },
  {
   "cell_type": "code",
   "execution_count": 3,
   "id": "161a0afc-79c2-4607-98d1-dae7a674089e",
   "metadata": {},
   "outputs": [],
   "source": [
    "class Dataset(torch.utils.data.Dataset):\n",
    "\n",
    "    def __init__(self, inputs, attention_mask):\n",
    "        self.inputs = inputs\n",
    "        self.attention_mask = attention_mask\n",
    "\n",
    "    # 학습 및 추론 과정에서 데이터를 1개씩 꺼내옴\n",
    "    def __getitem__(self, idx):\n",
    "        # 정답이 있다면 else문을, 없다면 if문을 수행\n",
    "        return (torch.tensor(self.inputs[idx]), torch.tensor(self.attention_mask[idx]))\n",
    "      \n",
    "\n",
    "    # 입력하는 개수만큼 데이터를 사용\n",
    "    def __len__(self):\n",
    "        return len(self.inputs)"
   ]
  },
  {
   "cell_type": "code",
   "execution_count": 4,
   "id": "3dccfee8-10db-42ac-8a69-671ce36c0e5f",
   "metadata": {},
   "outputs": [],
   "source": [
    "class Dataloader(pl.LightningDataModule):\n",
    "\n",
    "    def __init__(self,\n",
    "                 model_name,\n",
    "                 batch_size,\n",
    "                 path):\n",
    "        \n",
    "        super().__init__()\n",
    "        self.model_name = model_name\n",
    "        self.batch_size = batch_size\n",
    "        self.max_token_length = 64\n",
    "\n",
    "        self.path = path\n",
    "   \n",
    "        self.tokenizer = AutoTokenizer.from_pretrained(model_name)\n",
    "\n",
    "    def prepare_data(self) -> None: \n",
    "        \"\"\" csv 파일을 경로에 맞게 불러 옵니다. \"\"\"\n",
    "        self.dataframe = pd.read_csv(self.path)\n",
    "        self.inputs, self.attention_mask = self.preprocessing(self.dataframe)\n",
    "\n",
    "    def preprocessing(self, data):\n",
    "        # 안쓰는 컬럼 삭제\n",
    "        data = data[\"text\"].tolist()\n",
    "        tokenizer_input = self.tokenizer(data, padding=True, max_length=self.max_token_length, truncation=True)\n",
    "        \n",
    "        return tokenizer_input[\"input_ids\"], tokenizer_input[\"attention_mask\"]\n",
    "\n",
    "    def setup(self, stage='predict'): \n",
    "        self.dataset = Dataset(self.inputs, self.attention_mask)\n",
    "\n",
    "    def predict_dataloader(self): \n",
    "        return torch.utils.data.DataLoader(self.dataset, batch_size=self.batch_size)"
   ]
  },
  {
   "cell_type": "code",
   "execution_count": 5,
   "id": "14850a6b-8c21-4846-8209-b2ac1540407f",
   "metadata": {},
   "outputs": [],
   "source": [
    "class Model(pl.LightningModule):\n",
    "    \n",
    "    def __init__(self, kor2eng_model_name, eng2kor_model_name):\n",
    "        \n",
    "        super().__init__()\n",
    "        self.save_hyperparameters()\n",
    "        self.kor2eng_model = AutoModelForSeq2SeqLM.from_pretrained(kor2eng_model_name)\n",
    "        self.eng2kor_model = AutoModelForSeq2SeqLM.from_pretrained(eng2kor_model_name)\n",
    "        self.eng2kor_tokenizer = AutoTokenizer.from_pretrained(eng2kor_model_name)\n",
    "        self.max_token_length = 64\n",
    "        self.num_beams=5\n",
    "        \n",
    "    def forward(self,\n",
    "                input_ids=None,\n",
    "                attention_mask=None):\n",
    "        \n",
    "        # print(len(input_ids), attention_mask)\n",
    "        eng_encoded_output = self.kor2eng_model.generate(\n",
    "        input_ids = input_ids,\n",
    "        attention_mask = attention_mask,\n",
    "        max_length=self.max_token_length,\n",
    "        num_beams=self.num_beams)\n",
    "        \n",
    "        new_attention_mask = eng_encoded_output.bool().long()\n",
    "        \n",
    "        kor_encoded_output = self.eng2kor_model.generate(\n",
    "        input_ids = eng_encoded_output,\n",
    "        attention_mask = new_attention_mask,\n",
    "        max_length=self.max_token_length,\n",
    "        num_beams=self.num_beams)\n",
    "        \n",
    "        return kor_encoded_output\n",
    "                \n",
    "    def predict_step(self, batch, batch_idx):\n",
    "        x = batch\n",
    "        \n",
    "        kor_encoded_output = self(*x)\n",
    "        return kor_encoded_output\n"
   ]
  },
  {
   "cell_type": "code",
   "execution_count": 6,
   "id": "8978eaf0-440f-4825-bb6c-f35004d38649",
   "metadata": {
    "tags": []
   },
   "outputs": [
    {
     "name": "stderr",
     "output_type": "stream",
     "text": [
      "GPU available: True, used: True\n",
      "TPU available: False, using: 0 TPU cores\n",
      "IPU available: False, using: 0 IPUs\n",
      "LOCAL_RANK: 0 - CUDA_VISIBLE_DEVICES: [0]\n",
      "/opt/conda/lib/python3.8/site-packages/pytorch_lightning/trainer/data_loading.py:110: UserWarning: The dataloader, predict_dataloader 0, does not have many workers which may be a bottleneck. Consider increasing the value of the `num_workers` argument` (try 8 which is the number of cpus on this machine) in the `DataLoader` init to improve performance.\n",
      "  rank_zero_warn(\n"
     ]
    },
    {
     "data": {
      "application/vnd.jupyter.widget-view+json": {
       "model_id": "0f2155e87ef0450083e5bfbf1212156c",
       "version_major": 2,
       "version_minor": 0
      },
      "text/plain": [
       "Predicting: 0it [00:00, ?it/s]"
      ]
     },
     "metadata": {},
     "output_type": "display_data"
    }
   ],
   "source": [
    "model = Model(\"./kor2eng\", \"./eng2kor\")\n",
    "dataloader = Dataloader(\"./kor2eng\", 32, '/opt/ml/train_spell_checked_delete_noise_all.csv')\n",
    "trainer = pl.Trainer(\n",
    "        gpus = 1,\n",
    "        accelerator='gpu')\n",
    "\n",
    "kor_encoded_output = trainer.predict(model=model, datamodule=dataloader)"
   ]
  },
  {
   "cell_type": "code",
   "execution_count": 7,
   "id": "af871443-50b6-482e-b563-ccdd99f57f10",
   "metadata": {
    "tags": []
   },
   "outputs": [],
   "source": [
    "eng2kor_tokenizer = AutoTokenizer.from_pretrained(\"./eng2kor\")\n",
    "data = pd.read_csv('/opt/ml/train_spell_checked_delete_noise_all.csv')\n",
    "result = []\n",
    "for i in kor_encoded_output:\n",
    "    result.extend(eng2kor_tokenizer.batch_decode(i, skip_special_tokens=True))\n",
    "\n",
    "data[\"back_translation\"] = result"
   ]
  },
  {
   "cell_type": "code",
   "execution_count": 8,
   "id": "3d5944b3-9501-4ecc-b744-62ea94248840",
   "metadata": {},
   "outputs": [
    {
     "data": {
      "text/html": [
       "<div>\n",
       "<style scoped>\n",
       "    .dataframe tbody tr th:only-of-type {\n",
       "        vertical-align: middle;\n",
       "    }\n",
       "\n",
       "    .dataframe tbody tr th {\n",
       "        vertical-align: top;\n",
       "    }\n",
       "\n",
       "    .dataframe thead th {\n",
       "        text-align: right;\n",
       "    }\n",
       "</style>\n",
       "<table border=\"1\" class=\"dataframe\">\n",
       "  <thead>\n",
       "    <tr style=\"text-align: right;\">\n",
       "      <th></th>\n",
       "      <th>ID</th>\n",
       "      <th>text</th>\n",
       "      <th>target</th>\n",
       "      <th>url</th>\n",
       "      <th>date</th>\n",
       "      <th>prob</th>\n",
       "      <th>new_label</th>\n",
       "      <th>back_translation</th>\n",
       "    </tr>\n",
       "  </thead>\n",
       "  <tbody>\n",
       "    <tr>\n",
       "      <th>0</th>\n",
       "      <td>ynat-v1_train_00000</td>\n",
       "      <td>유튜브 내달 2일까지 크리에이터 지원 공간 운영</td>\n",
       "      <td>3</td>\n",
       "      <td>https://news.naver.com/main/read.nhn?mode=LS2D...</td>\n",
       "      <td>2016.06.30. 오전 10:36</td>\n",
       "      <td>[5.4213288e-03 2.6925930e-03 1.7177768e-02 9.6...</td>\n",
       "      <td>3</td>\n",
       "      <td>다음 달 2일부터 유튜브의 개발자 지원 공간을 다음 달 2일까지 운영한다.</td>\n",
       "    </tr>\n",
       "    <tr>\n",
       "      <th>1</th>\n",
       "      <td>ynat-v1_train_00001</td>\n",
       "      <td>어버이날 막다가 흐려 저…남부 지방 여하튼 황사</td>\n",
       "      <td>3</td>\n",
       "      <td>https://news.naver.com/main/read.nhn?mode=LS2D...</td>\n",
       "      <td>2016.05.08. 오전 5:25</td>\n",
       "      <td>[0.00201493 0.00196364 0.00275715 0.9861522  0...</td>\n",
       "      <td>3</td>\n",
       "      <td>오랜만에 생일날 비가 나고, 남부지방에 비가 오고 있어, 남부지방에 비가 오고 있습니다.</td>\n",
       "    </tr>\n",
       "    <tr>\n",
       "      <th>2</th>\n",
       "      <td>ynat-v1_train_00002</td>\n",
       "      <td>내년부터 국가 RD 평가 때 논문 건수는 반영 않는다</td>\n",
       "      <td>2</td>\n",
       "      <td>https://news.naver.com/main/read.nhn?mode=LS2D...</td>\n",
       "      <td>2016.03.15. 오후 12:00</td>\n",
       "      <td>[0.05256948 0.01216032 0.7787355  0.01706305 0...</td>\n",
       "      <td>2</td>\n",
       "      <td>내년부터는 국수 RD평가에 서류 양이 반영될 예정이다.</td>\n",
       "    </tr>\n",
       "    <tr>\n",
       "      <th>3</th>\n",
       "      <td>ynat-v1_train_00003</td>\n",
       "      <td>김명자 신임 과총 회장 원로와 젊은 과학자 지혜 모을 것</td>\n",
       "      <td>2</td>\n",
       "      <td>https://news.naver.com/main/read.nhn?mode=LS2D...</td>\n",
       "      <td>2017.02.28. 오전 9:54</td>\n",
       "      <td>[0.30010435 0.01159117 0.6572125  0.00868781 0...</td>\n",
       "      <td>2</td>\n",
       "      <td>김명자 국립과학기술원 신임 이사장이 어르신들과 젊은 과학자를 출산한다.</td>\n",
       "    </tr>\n",
       "    <tr>\n",
       "      <th>4</th>\n",
       "      <td>ynat-v1_train_00004</td>\n",
       "      <td>회생 긴 간 작가 김동식 걍심꼬백 뜬 새 소설집 두 권 출간</td>\n",
       "      <td>3</td>\n",
       "      <td>https://news.naver.com/main/read.nhn?mode=LS2D...</td>\n",
       "      <td>2018.04.03. 오전 7:05</td>\n",
       "      <td>[0.00760565 0.00409387 0.00674626 0.96570086 0...</td>\n",
       "      <td>3</td>\n",
       "      <td>장기작가인 김동식이 장기작가 김동식과 함께 새로운 소설 두 권을 저서로 출간했다.</td>\n",
       "    </tr>\n",
       "  </tbody>\n",
       "</table>\n",
       "</div>"
      ],
      "text/plain": [
       "                    ID                               text  target   \n",
       "0  ynat-v1_train_00000         유튜브 내달 2일까지 크리에이터 지원 공간 운영       3  \\\n",
       "1  ynat-v1_train_00001         어버이날 막다가 흐려 저…남부 지방 여하튼 황사       3   \n",
       "2  ynat-v1_train_00002      내년부터 국가 RD 평가 때 논문 건수는 반영 않는다       2   \n",
       "3  ynat-v1_train_00003    김명자 신임 과총 회장 원로와 젊은 과학자 지혜 모을 것       2   \n",
       "4  ynat-v1_train_00004  회생 긴 간 작가 김동식 걍심꼬백 뜬 새 소설집 두 권 출간       3   \n",
       "\n",
       "                                                 url                  date   \n",
       "0  https://news.naver.com/main/read.nhn?mode=LS2D...  2016.06.30. 오전 10:36  \\\n",
       "1  https://news.naver.com/main/read.nhn?mode=LS2D...   2016.05.08. 오전 5:25   \n",
       "2  https://news.naver.com/main/read.nhn?mode=LS2D...  2016.03.15. 오후 12:00   \n",
       "3  https://news.naver.com/main/read.nhn?mode=LS2D...   2017.02.28. 오전 9:54   \n",
       "4  https://news.naver.com/main/read.nhn?mode=LS2D...   2018.04.03. 오전 7:05   \n",
       "\n",
       "                                                prob  new_label   \n",
       "0  [5.4213288e-03 2.6925930e-03 1.7177768e-02 9.6...          3  \\\n",
       "1  [0.00201493 0.00196364 0.00275715 0.9861522  0...          3   \n",
       "2  [0.05256948 0.01216032 0.7787355  0.01706305 0...          2   \n",
       "3  [0.30010435 0.01159117 0.6572125  0.00868781 0...          2   \n",
       "4  [0.00760565 0.00409387 0.00674626 0.96570086 0...          3   \n",
       "\n",
       "                                    back_translation  \n",
       "0          다음 달 2일부터 유튜브의 개발자 지원 공간을 다음 달 2일까지 운영한다.  \n",
       "1  오랜만에 생일날 비가 나고, 남부지방에 비가 오고 있어, 남부지방에 비가 오고 있습니다.  \n",
       "2                     내년부터는 국수 RD평가에 서류 양이 반영될 예정이다.  \n",
       "3            김명자 국립과학기술원 신임 이사장이 어르신들과 젊은 과학자를 출산한다.  \n",
       "4      장기작가인 김동식이 장기작가 김동식과 함께 새로운 소설 두 권을 저서로 출간했다.  "
      ]
     },
     "execution_count": 8,
     "metadata": {},
     "output_type": "execute_result"
    }
   ],
   "source": [
    "data.to_csv(\"back-translation.csv\", index=False)\n",
    "data.head()"
   ]
  }
 ],
 "metadata": {
  "kernelspec": {
   "display_name": "Python 3 (ipykernel)",
   "language": "python",
   "name": "python3"
  },
  "language_info": {
   "codemirror_mode": {
    "name": "ipython",
    "version": 3
   },
   "file_extension": ".py",
   "mimetype": "text/x-python",
   "name": "python",
   "nbconvert_exporter": "python",
   "pygments_lexer": "ipython3",
   "version": "3.8.5"
  }
 },
 "nbformat": 4,
 "nbformat_minor": 5
}
