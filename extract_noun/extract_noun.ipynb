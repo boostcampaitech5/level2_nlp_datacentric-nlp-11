{
 "cells": [
  {
   "cell_type": "code",
   "execution_count": 92,
   "metadata": {},
   "outputs": [],
   "source": [
    "import pandas as pd"
   ]
  },
  {
   "cell_type": "code",
   "execution_count": 93,
   "metadata": {},
   "outputs": [],
   "source": [
    "# 입력 파일 입력\n",
    "train_origin_df = pd.read_csv('')"
   ]
  },
  {
   "cell_type": "code",
   "execution_count": 94,
   "metadata": {},
   "outputs": [
    {
     "data": {
      "text/html": [
       "<div>\n",
       "<style scoped>\n",
       "    .dataframe tbody tr th:only-of-type {\n",
       "        vertical-align: middle;\n",
       "    }\n",
       "\n",
       "    .dataframe tbody tr th {\n",
       "        vertical-align: top;\n",
       "    }\n",
       "\n",
       "    .dataframe thead th {\n",
       "        text-align: right;\n",
       "    }\n",
       "</style>\n",
       "<table border=\"1\" class=\"dataframe\">\n",
       "  <thead>\n",
       "    <tr style=\"text-align: right;\">\n",
       "      <th></th>\n",
       "      <th>ID</th>\n",
       "      <th>text</th>\n",
       "      <th>target</th>\n",
       "      <th>url</th>\n",
       "      <th>date</th>\n",
       "    </tr>\n",
       "  </thead>\n",
       "  <tbody>\n",
       "    <tr>\n",
       "      <th>0</th>\n",
       "      <td>ynat-v1_train_00000</td>\n",
       "      <td>유튜브 내달 2일까지 크리에이터 지원 공간 운영</td>\n",
       "      <td>3</td>\n",
       "      <td>https://news.naver.com/main/read.nhn?mode=LS2D...</td>\n",
       "      <td>2016.06.30. 오전 10:36</td>\n",
       "    </tr>\n",
       "    <tr>\n",
       "      <th>1</th>\n",
       "      <td>ynat-v1_train_00001</td>\n",
       "      <td>어버이날 막따가 흐려저…남부지방 여튼 황사</td>\n",
       "      <td>3</td>\n",
       "      <td>https://news.naver.com/main/read.nhn?mode=LS2D...</td>\n",
       "      <td>2016.05.08. 오전 5:25</td>\n",
       "    </tr>\n",
       "    <tr>\n",
       "      <th>2</th>\n",
       "      <td>ynat-v1_train_00002</td>\n",
       "      <td>내년부터 국가RD 평가 때 논문건수는 반영 않는다</td>\n",
       "      <td>2</td>\n",
       "      <td>https://news.naver.com/main/read.nhn?mode=LS2D...</td>\n",
       "      <td>2016.03.15. 오후 12:00</td>\n",
       "    </tr>\n",
       "    <tr>\n",
       "      <th>3</th>\n",
       "      <td>ynat-v1_train_00003</td>\n",
       "      <td>김명자 신임 과총 회장 원로와 젊은 과학자 지혜 모을 것</td>\n",
       "      <td>2</td>\n",
       "      <td>https://news.naver.com/main/read.nhn?mode=LS2D...</td>\n",
       "      <td>2017.02.28. 오전 9:54</td>\n",
       "    </tr>\n",
       "    <tr>\n",
       "      <th>4</th>\n",
       "      <td>ynat-v1_train_00004</td>\n",
       "      <td>회새긴간 작까 김동시 걍심꼬백 뜽 새 소설집 뚜권 출간</td>\n",
       "      <td>3</td>\n",
       "      <td>https://news.naver.com/main/read.nhn?mode=LS2D...</td>\n",
       "      <td>2018.04.03. 오전 7:05</td>\n",
       "    </tr>\n",
       "  </tbody>\n",
       "</table>\n",
       "</div>"
      ],
      "text/plain": [
       "                    ID                             text  target   \n",
       "0  ynat-v1_train_00000       유튜브 내달 2일까지 크리에이터 지원 공간 운영       3  \\\n",
       "1  ynat-v1_train_00001          어버이날 막따가 흐려저…남부지방 여튼 황사       3   \n",
       "2  ynat-v1_train_00002      내년부터 국가RD 평가 때 논문건수는 반영 않는다       2   \n",
       "3  ynat-v1_train_00003  김명자 신임 과총 회장 원로와 젊은 과학자 지혜 모을 것       2   \n",
       "4  ynat-v1_train_00004   회새긴간 작까 김동시 걍심꼬백 뜽 새 소설집 뚜권 출간       3   \n",
       "\n",
       "                                                 url                  date  \n",
       "0  https://news.naver.com/main/read.nhn?mode=LS2D...  2016.06.30. 오전 10:36  \n",
       "1  https://news.naver.com/main/read.nhn?mode=LS2D...   2016.05.08. 오전 5:25  \n",
       "2  https://news.naver.com/main/read.nhn?mode=LS2D...  2016.03.15. 오후 12:00  \n",
       "3  https://news.naver.com/main/read.nhn?mode=LS2D...   2017.02.28. 오전 9:54  \n",
       "4  https://news.naver.com/main/read.nhn?mode=LS2D...   2018.04.03. 오전 7:05  "
      ]
     },
     "execution_count": 94,
     "metadata": {},
     "output_type": "execute_result"
    }
   ],
   "source": [
    "train_origin_df.head()"
   ]
  },
  {
   "attachments": {},
   "cell_type": "markdown",
   "metadata": {},
   "source": [
    "## konlpy 설치\n",
    "!apt-get install -y g++ openjdk-8-jdk python3-dev python3-pip curl\n",
    "!pip install --upgrade pip\n",
    "!pip install konlpy"
   ]
  },
  {
   "attachments": {},
   "cell_type": "markdown",
   "metadata": {},
   "source": [
    "## Mecab 설치\n",
    "* mecab-ko\n",
    "````\n",
    "cd /tmp\n",
    "sudo wget https://bitbucket.org/eunjeon/mecab-ko/downloads/mecab-0.996-ko-0.9.2.tar.gz\n",
    "sudo tar xvf mecab-0.996-ko-0.9.2.tar.gz\n",
    "\n",
    "cd /tmp/mecab-0.996-ko-0.9.2\n",
    "sudo ./configure\n",
    "sudo make check\n",
    "sudo make install\n",
    "````\n",
    "\n",
    "* mecab-dic\n",
    "````\n",
    "cd /tmp\n",
    "wget https://bitbucket.org/eunjeon/mecab-ko-dic/downloads/mecab-ko-dic-2.1.1-20180720.tar.gz\n",
    "tar zxvf mecab-ko-dic-2.1.1-20180720.tar.gz\n",
    "\n",
    "cd /tmp/mecab-ko-dic-2.1.1-20180720\n",
    "sudo ./autogen.sh\n",
    "sudo ./configure\n",
    "sudo make\n",
    "sudo make install\n",
    "````\n",
    "\n",
    "* mecab-python\n",
    "````\n",
    "cd /tmp\n",
    "git clone https://bitbucket.org/eunjeon/mecab-python-0.996.git\n",
    "cd mecab-python-0.996\n",
    "python3 setup.py build\n",
    "python3 setup.py install\n",
    "````"
   ]
  },
  {
   "cell_type": "code",
   "execution_count": 96,
   "metadata": {},
   "outputs": [],
   "source": [
    "from konlpy.tag import Mecab\n",
    "mecab = Mecab()"
   ]
  },
  {
   "cell_type": "code",
   "execution_count": 97,
   "metadata": {},
   "outputs": [],
   "source": [
    "import numpy as np"
   ]
  },
  {
   "cell_type": "code",
   "execution_count": 98,
   "metadata": {},
   "outputs": [],
   "source": [
    "def extract_noun(x):\n",
    "    x['text'] = ' '.join(mecab.nouns(x['text']))\n",
    "    if x['text'] == '':\n",
    "        x['text'] = np.NaN\n",
    "    return x"
   ]
  },
  {
   "cell_type": "code",
   "execution_count": 99,
   "metadata": {},
   "outputs": [],
   "source": [
    "train_extract_noun_df = train_origin_df\n",
    "train_extract_noun_df = train_extract_noun_df.apply(lambda x: extract_noun(x), axis=1)"
   ]
  },
  {
   "cell_type": "code",
   "execution_count": 100,
   "metadata": {},
   "outputs": [
    {
     "data": {
      "text/plain": [
       "ID        0\n",
       "text      5\n",
       "target    0\n",
       "url       0\n",
       "date      0\n",
       "dtype: int64"
      ]
     },
     "execution_count": 100,
     "metadata": {},
     "output_type": "execute_result"
    }
   ],
   "source": [
    "train_extract_noun_df.isnull().sum()"
   ]
  },
  {
   "cell_type": "code",
   "execution_count": 101,
   "metadata": {},
   "outputs": [],
   "source": [
    "train_extract_noun_df.dropna(inplace=True)"
   ]
  },
  {
   "cell_type": "code",
   "execution_count": 102,
   "metadata": {},
   "outputs": [
    {
     "name": "stdout",
     "output_type": "stream",
     "text": [
      "<class 'pandas.core.frame.DataFrame'>\n",
      "RangeIndex: 45678 entries, 0 to 45677\n",
      "Data columns (total 5 columns):\n",
      " #   Column  Non-Null Count  Dtype \n",
      "---  ------  --------------  ----- \n",
      " 0   ID      45678 non-null  object\n",
      " 1   text    45678 non-null  object\n",
      " 2   target  45678 non-null  int64 \n",
      " 3   url     45678 non-null  object\n",
      " 4   date    45678 non-null  object\n",
      "dtypes: int64(1), object(4)\n",
      "memory usage: 1.7+ MB\n"
     ]
    }
   ],
   "source": [
    "train_origin_df.info()"
   ]
  },
  {
   "cell_type": "code",
   "execution_count": 103,
   "metadata": {},
   "outputs": [
    {
     "name": "stdout",
     "output_type": "stream",
     "text": [
      "<class 'pandas.core.frame.DataFrame'>\n",
      "Index: 45673 entries, 0 to 45677\n",
      "Data columns (total 5 columns):\n",
      " #   Column  Non-Null Count  Dtype \n",
      "---  ------  --------------  ----- \n",
      " 0   ID      45673 non-null  object\n",
      " 1   text    45673 non-null  object\n",
      " 2   target  45673 non-null  int64 \n",
      " 3   url     45673 non-null  object\n",
      " 4   date    45673 non-null  object\n",
      "dtypes: int64(1), object(4)\n",
      "memory usage: 2.1+ MB\n"
     ]
    }
   ],
   "source": [
    "train_extract_noun_df.info()"
   ]
  },
  {
   "cell_type": "code",
   "execution_count": 104,
   "metadata": {},
   "outputs": [],
   "source": [
    "# 출력 파일 입력\n",
    "train_extract_noun_df.to_csv('', index=False)"
   ]
  }
 ],
 "metadata": {
  "kernelspec": {
   "display_name": "base",
   "language": "python",
   "name": "python3"
  },
  "language_info": {
   "codemirror_mode": {
    "name": "ipython",
    "version": 3
   },
   "file_extension": ".py",
   "mimetype": "text/x-python",
   "name": "python",
   "nbconvert_exporter": "python",
   "pygments_lexer": "ipython3",
   "version": "3.8.5"
  },
  "orig_nbformat": 4
 },
 "nbformat": 4,
 "nbformat_minor": 2
}
